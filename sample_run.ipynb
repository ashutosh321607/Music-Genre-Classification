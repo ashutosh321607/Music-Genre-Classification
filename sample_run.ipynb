{
 "cells": [
  {
   "cell_type": "code",
   "execution_count": 1,
   "id": "corresponding-aside",
   "metadata": {},
   "outputs": [],
   "source": [
    "# %pip install matplotlib\n",
    "import librosa.display\n",
    "import numpy as np\n",
    "from matplotlib import pyplot as plt\n",
    "import os\n",
    "from matplotlib.backends.backend_agg import FigureCanvasAgg as FigureCanvas\n",
    "\n",
    "import tensorflow as tf\n",
    "from tensorflow.keras.preprocessing import image_dataset_from_directory\n",
    "from tensorflow.keras.optimizers import Adam\n",
    "\n",
    "from tensorflow import keras\n",
    "from tensorflow.keras import models, layers\n",
    "from tensorflow.keras.preprocessing import image_dataset_from_directory\n",
    "from tensorflow.keras.models import Sequential"
   ]
  },
  {
   "cell_type": "code",
   "execution_count": 2,
   "id": "diverse-inspection",
   "metadata": {},
   "outputs": [],
   "source": [
    "TARGET_SIZEX=223\n",
    "TARGET_SIZEY=217\n",
    "def create_spectrogram(filename,name):\n",
    "    plt.interactive(False)\n",
    "    clip, sample_rate = librosa.load(filename, sr=None,duration=30)\n",
    "    fig = plt.figure(figsize=[0.72,0.72])\n",
    "    ax = fig.add_subplot(111)\n",
    "    ax.axes.get_xaxis().set_visible(False)\n",
    "    ax.axes.get_yaxis().set_visible(False)\n",
    "    ax.set_frame_on(False)\n",
    "    S = librosa.feature.melspectrogram(y=clip, sr=sample_rate)\n",
    "    librosa.display.specshow(librosa.power_to_db(S, ref=np.max))\n",
    "    filename  = './' + name + '.jpg'\n",
    "    plt.savefig(filename, dpi=800, bbox_inches='tight',pad_inches=0)\n",
    "    plt.close()    \n",
    "    fig.clf()\n",
    "    plt.close(fig)\n",
    "    plt.close('all')\n",
    "    del filename,name,clip,sample_rate,fig,ax,S\n"
   ]
  },
  {
   "cell_type": "code",
   "execution_count": 3,
   "id": "mediterranean-referral",
   "metadata": {},
   "outputs": [],
   "source": [
    "labels=['blues', 'classical', 'country', 'disco', 'hiphop', 'jazz', 'metal', 'pop', 'reggae', 'rock']"
   ]
  },
  {
   "cell_type": "code",
   "execution_count": 4,
   "id": "bigger-millennium",
   "metadata": {},
   "outputs": [],
   "source": [
    "\n",
    "## Returns 3 best genre matchs\n",
    "def predict_single(path):\n",
    "    create_spectrogram(path,\"temp\")\n",
    "    image = tf.keras.preprocessing.image.load_img(path=\"./temp.jpg\",target_size=(TARGET_SIZEX, TARGET_SIZEY))\n",
    "    input_arr = tf.keras.preprocessing.image.img_to_array(image)\n",
    "    input_arr = np.array([input_arr])  # Convert single image to a batch.\n",
    "    predictions = model.predict(input_arr)\n",
    "#     print(predictions[0])\n",
    "    samp={}\n",
    "    \n",
    "    for i in range(10):\n",
    "        samp[labels[i]]=predictions[0][i]\n",
    "    return list({k: v for k, v in sorted(samp.items(), key=lambda item: item[1],reverse=True)}.keys())[:3]"
   ]
  },
  {
   "cell_type": "code",
   "execution_count": 5,
   "id": "naval-blocking",
   "metadata": {},
   "outputs": [],
   "source": [
    "model = keras.models.load_model('./cnnmodel.h5')"
   ]
  },
  {
   "cell_type": "code",
   "execution_count": 6,
   "id": "bound-delay",
   "metadata": {},
   "outputs": [
    {
     "data": {
      "text/plain": [
       "['blues', 'jazz', 'reggae']"
      ]
     },
     "execution_count": 6,
     "metadata": {},
     "output_type": "execute_result"
    }
   ],
   "source": [
    "predict_single(\"./sample/bashful.wav\")"
   ]
  },
  {
   "cell_type": "code",
   "execution_count": null,
   "id": "boxed-tribute",
   "metadata": {},
   "outputs": [],
   "source": []
  }
 ],
 "metadata": {
  "kernelspec": {
   "display_name": "Python 3",
   "language": "python",
   "name": "python3"
  },
  "language_info": {
   "codemirror_mode": {
    "name": "ipython",
    "version": 3
   },
   "file_extension": ".py",
   "mimetype": "text/x-python",
   "name": "python",
   "nbconvert_exporter": "python",
   "pygments_lexer": "ipython3",
   "version": "3.6.9"
  }
 },
 "nbformat": 4,
 "nbformat_minor": 5
}
