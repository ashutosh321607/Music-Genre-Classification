{
  "nbformat": 4,
  "nbformat_minor": 0,
  "metadata": {
    "accelerator": "TPU",
    "colab": {
      "name": "Music_genre_classification_NN.ipynb",
      "provenance": [],
      "mount_file_id": "10AI_S2aPGxu59hT_ZyZtRfddMyhEMOT5",
      "authorship_tag": "ABX9TyMkRLf+VSoSOgnOjLXL6H49",
      "include_colab_link": true
    },
    "kernelspec": {
      "display_name": "Python 3",
      "name": "python3"
    }
  },
  "cells": [
    {
      "cell_type": "markdown",
      "metadata": {
        "id": "view-in-github",
        "colab_type": "text"
      },
      "source": [
        "<a href=\"https://colab.research.google.com/github/ashutosh321607/Music-Genre-Classification/blob/main/Music_genre_classification_NN.ipynb\" target=\"_parent\"><img src=\"https://colab.research.google.com/assets/colab-badge.svg\" alt=\"Open In Colab\"/></a>"
      ]
    },
    {
      "cell_type": "code",
      "metadata": {
        "colab": {
          "base_uri": "https://localhost:8080/"
        },
        "id": "ODQ-SZf4bNhV",
        "outputId": "cb9b60dd-36a6-44c7-bc25-653678e5abbd"
      },
      "source": [
        "from google.colab import drive\n",
        "drive.mount('/content/drive')"
      ],
      "execution_count": 1,
      "outputs": [
        {
          "output_type": "stream",
          "text": [
            "Drive already mounted at /content/drive; to attempt to forcibly remount, call drive.mount(\"/content/drive\", force_remount=True).\n"
          ],
          "name": "stdout"
        }
      ]
    },
    {
      "cell_type": "markdown",
      "metadata": {
        "id": "kETLwgRGSWs9"
      },
      "source": [
        "## Data Loading and spliting into test and train"
      ]
    },
    {
      "cell_type": "code",
      "metadata": {
        "id": "6Q609_o5R85v"
      },
      "source": [
        "# load data\n",
        "\n",
        "import json\n",
        "import numpy as np\n",
        "from sklearn.model_selection import train_test_split\n",
        "import tensorflow.keras as keras\n",
        "\n",
        "DATA_PATH = \"/content/drive/MyDrive/Colab Notebooks/Music_data/processed_data.json\"\n",
        "\n",
        "with open(DATA_PATH, \"r\") as fp:\n",
        "    data = json.load(fp)\n",
        "\n",
        "# convert lists to numpy arrays\n",
        "X = np.array(data[\"mfcc\"])\n",
        "y = np.array(data[\"labels\"])"
      ],
      "execution_count": 2,
      "outputs": []
    },
    {
      "cell_type": "code",
      "metadata": {
        "id": "EL8LFOYASXmp"
      },
      "source": [
        "# split the data into training and testing set\n",
        "\n",
        "from sklearn.model_selection import train_test_split\n",
        "\n",
        "input_train, input_test, output_train, output_test = train_test_split(X, y, test_size = 0.25)\n"
      ],
      "execution_count": 3,
      "outputs": []
    },
    {
      "cell_type": "markdown",
      "metadata": {
        "id": "DIqK2jbgSJwn"
      },
      "source": [
        "## Model building and architracture deciding "
      ]
    },
    {
      "cell_type": "code",
      "metadata": {
        "id": "Y5R5XmCVTBH7"
      },
      "source": [
        "import tensorflow.keras as keras\n",
        "\n",
        "# building the network architracture\n",
        "\n",
        "model = keras.Sequential([\n",
        "        keras.layers.Flatten(input_shape=(X.shape[1], X.shape[2])),\n",
        "        keras.layers.Dense(512, activation='relu'),\n",
        "        keras.layers.Dense(256, activation='relu'),\n",
        "        keras.layers.Dense(64, activation='relu'),\n",
        "        keras.layers.Dense(10, activation='softmax')\n",
        "    ])"
      ],
      "execution_count": 4,
      "outputs": []
    },
    {
      "cell_type": "code",
      "metadata": {
        "colab": {
          "base_uri": "https://localhost:8080/"
        },
        "id": "GZzsy8JfVHCN",
        "outputId": "ac818ab4-74d6-4d72-a4e1-5d6e6a6f39dc"
      },
      "source": [
        "#compile the network\n",
        "\n",
        "optimiser = keras.optimizers.Adam(learning_rate=0.0001)\n",
        "model.compile(optimizer=optimiser,\n",
        "              loss='sparse_categorical_crossentropy',\n",
        "              metrics=['accuracy'])\n",
        "\n",
        "model.summary()"
      ],
      "execution_count": 5,
      "outputs": [
        {
          "output_type": "stream",
          "text": [
            "Model: \"sequential\"\n",
            "_________________________________________________________________\n",
            "Layer (type)                 Output Shape              Param #   \n",
            "=================================================================\n",
            "flatten (Flatten)            (None, 1690)              0         \n",
            "_________________________________________________________________\n",
            "dense (Dense)                (None, 512)               865792    \n",
            "_________________________________________________________________\n",
            "dense_1 (Dense)              (None, 256)               131328    \n",
            "_________________________________________________________________\n",
            "dense_2 (Dense)              (None, 64)                16448     \n",
            "_________________________________________________________________\n",
            "dense_3 (Dense)              (None, 10)                650       \n",
            "=================================================================\n",
            "Total params: 1,014,218\n",
            "Trainable params: 1,014,218\n",
            "Non-trainable params: 0\n",
            "_________________________________________________________________\n"
          ],
          "name": "stdout"
        }
      ]
    },
    {
      "cell_type": "markdown",
      "metadata": {
        "id": "Csw8-iLacu7d"
      },
      "source": [
        "## Training the model "
      ]
    },
    {
      "cell_type": "code",
      "metadata": {
        "colab": {
          "base_uri": "https://localhost:8080/"
        },
        "id": "-V3DArdAVO79",
        "outputId": "cd96e0a8-78ae-4b3b-85c7-1e88b9f53250"
      },
      "source": [
        "model.fit(\n",
        "    input_train,\n",
        "    output_train,\n",
        "    validation_data=(input_test, output_test),\n",
        "    batch_size=32,\n",
        "    epochs = 10\n",
        ")"
      ],
      "execution_count": 8,
      "outputs": [
        {
          "output_type": "stream",
          "text": [
            "Epoch 1/10\n",
            "235/235 [==============================] - 2s 10ms/step - loss: 0.0736 - accuracy: 0.9758 - val_loss: 2.6060 - val_accuracy: 0.6187\n",
            "Epoch 2/10\n",
            "235/235 [==============================] - 2s 10ms/step - loss: 0.0227 - accuracy: 0.9937 - val_loss: 2.7083 - val_accuracy: 0.6264\n",
            "Epoch 3/10\n",
            "235/235 [==============================] - 2s 10ms/step - loss: 0.0122 - accuracy: 0.9971 - val_loss: 2.8559 - val_accuracy: 0.6155\n",
            "Epoch 4/10\n",
            "235/235 [==============================] - 2s 10ms/step - loss: 0.0125 - accuracy: 0.9968 - val_loss: 2.6853 - val_accuracy: 0.6292\n",
            "Epoch 5/10\n",
            "235/235 [==============================] - 2s 10ms/step - loss: 0.0107 - accuracy: 0.9973 - val_loss: 2.7130 - val_accuracy: 0.6344\n",
            "Epoch 6/10\n",
            "235/235 [==============================] - 2s 10ms/step - loss: 0.0069 - accuracy: 0.9985 - val_loss: 2.7684 - val_accuracy: 0.6388\n",
            "Epoch 7/10\n",
            "235/235 [==============================] - 2s 10ms/step - loss: 0.1484 - accuracy: 0.9562 - val_loss: 2.9835 - val_accuracy: 0.5727\n",
            "Epoch 8/10\n",
            "235/235 [==============================] - 2s 10ms/step - loss: 0.2985 - accuracy: 0.9077 - val_loss: 2.6821 - val_accuracy: 0.5663\n",
            "Epoch 9/10\n",
            "235/235 [==============================] - 2s 10ms/step - loss: 0.2285 - accuracy: 0.9388 - val_loss: 2.5140 - val_accuracy: 0.6155\n",
            "Epoch 10/10\n",
            "235/235 [==============================] - 2s 10ms/step - loss: 0.0350 - accuracy: 0.9900 - val_loss: 2.5449 - val_accuracy: 0.6239\n"
          ],
          "name": "stdout"
        },
        {
          "output_type": "execute_result",
          "data": {
            "text/plain": [
              "<tensorflow.python.keras.callbacks.History at 0x7f337ea4c550>"
            ]
          },
          "metadata": {
            "tags": []
          },
          "execution_count": 8
        }
      ]
    },
    {
      "cell_type": "code",
      "metadata": {
        "id": "Oybe92Pep4M6"
      },
      "source": [
        ""
      ],
      "execution_count": null,
      "outputs": []
    }
  ]
}