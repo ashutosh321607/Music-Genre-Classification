{
 "cells": [
  {
   "cell_type": "code",
   "execution_count": 156,
   "id": "virtual-money",
   "metadata": {},
   "outputs": [],
   "source": [
    "# %pip install matplotlib\n",
    "import librosa.display\n",
    "import numpy as np\n",
    "from matplotlib import pyplot as plt\n",
    "import os\n",
    "from matplotlib.backends.backend_agg import FigureCanvasAgg as FigureCanvas\n",
    "\n",
    "import tensorflow as tf\n",
    "from tensorflow.keras.preprocessing import image_dataset_from_directory\n",
    "from tensorflow.keras.optimizers import Adam\n",
    "\n",
    "from tensorflow import keras\n",
    "from tensorflow.keras import models, layers\n",
    "from tensorflow.keras.preprocessing import image_dataset_from_directory\n",
    "from tensorflow.keras.models import Sequential"
   ]
  },
  {
   "cell_type": "markdown",
   "id": "referenced-joyce",
   "metadata": {},
   "source": [
    "We will create Mel Spectrogram Images for each of the music files.These Mel spectrogram images will be used as INput for Our CNN model"
   ]
  },
  {
   "cell_type": "code",
   "execution_count": 157,
   "id": "coordinate-median",
   "metadata": {},
   "outputs": [],
   "source": [
    "\n",
    "\n",
    "def create_spectrogram(filename,name):\n",
    "    plt.interactive(False)\n",
    "    clip, sample_rate = librosa.load(filename, sr=None,duration=30)\n",
    "    fig = plt.figure(figsize=[0.72,0.72])\n",
    "    ax = fig.add_subplot(111)\n",
    "    ax.axes.get_xaxis().set_visible(False)\n",
    "    ax.axes.get_yaxis().set_visible(False)\n",
    "    ax.set_frame_on(False)\n",
    "    S = librosa.feature.melspectrogram(y=clip, sr=sample_rate)\n",
    "    librosa.display.specshow(librosa.power_to_db(S, ref=np.max))\n",
    "    filename  = './' + name + '.jpg'\n",
    "    plt.savefig(filename, dpi=800, bbox_inches='tight',pad_inches=0)\n",
    "    plt.close()    \n",
    "    fig.clf()\n",
    "    plt.close(fig)\n",
    "    plt.close('all')\n",
    "    del filename,name,clip,sample_rate,fig,ax,S\n"
   ]
  },
  {
   "cell_type": "markdown",
   "id": "anonymous-yield",
   "metadata": {},
   "source": [
    "For each of the music file I create one image file and store it in the images directory"
   ]
  },
  {
   "cell_type": "code",
   "execution_count": 51,
   "id": "third-sender",
   "metadata": {},
   "outputs": [],
   "source": [
    "\n",
    "filesnames=[]\n",
    "genrenames=[]\n",
    "for root, dirs, files in os.walk(path):\n",
    "    for name in files:\n",
    "        filename = os.path.join(root, name)\n",
    "        filesnames.append(filename)\n",
    "        \n",
    "        genrenames.append(filename.split(\"/\")[3])\n",
    "try:\n",
    "    os.mkdir('images')\n",
    "except FileExistsError as e:\n",
    "    None\n",
    "finally:\n",
    "    None\n",
    "for name in set(genrenames):\n",
    "    try:\n",
    "        os.mkdir(\"./images/\"+name)\n",
    "    except FileExistsError as e:\n",
    "        None    "
   ]
  },
  {
   "cell_type": "code",
   "execution_count": 21,
   "id": "first-competition",
   "metadata": {},
   "outputs": [],
   "source": []
  },
  {
   "cell_type": "code",
   "execution_count": 6,
   "id": "clinical-embassy",
   "metadata": {},
   "outputs": [
    {
     "name": "stdout",
     "output_type": "stream",
     "text": [
      "data2/classical/classical.00020.wav\n",
      "data2/classical/classical.00074.wav\n",
      "data2/classical/classical.00092.wav\n",
      "data2/classical/classical.00018.wav\n",
      "data2/classical/classical.00045.wav\n",
      "data2/classical/classical.00050.wav\n",
      "data2/classical/classical.00064.wav\n",
      "data2/classical/classical.00084.wav\n",
      "data2/classical/classical.00011.wav\n",
      "data2/classical/classical.00083.wav\n",
      "data2/classical/classical.00099.wav\n",
      "data2/classical/classical.00093.wav\n",
      "data2/classical/classical.00015.wav\n",
      "data2/classical/classical.00008.wav\n",
      "data2/classical/classical.00026.wav\n",
      "data2/classical/classical.00033.wav\n",
      "data2/classical/classical.00096.wav\n",
      "data2/classical/classical.00082.wav\n",
      "data2/classical/classical.00006.wav\n",
      "data2/classical/classical.00073.wav\n",
      "data2/classical/classical.00049.wav\n",
      "data2/classical/classical.00040.wav\n",
      "data2/classical/classical.00007.wav\n",
      "data2/classical/classical.00046.wav\n",
      "data2/classical/classical.00048.wav\n",
      "data2/classical/classical.00059.wav\n",
      "data2/classical/classical.00058.wav\n",
      "data2/classical/classical.00080.wav\n",
      "data2/classical/classical.00025.wav\n",
      "data2/classical/classical.00000.wav\n",
      "data2/classical/classical.00057.wav\n",
      "data2/classical/classical.00029.wav\n",
      "data2/classical/classical.00070.wav\n",
      "data2/classical/classical.00035.wav\n",
      "data2/classical/classical.00075.wav\n",
      "data2/classical/classical.00072.wav\n",
      "data2/classical/classical.00069.wav\n",
      "data2/classical/classical.00030.wav\n",
      "data2/classical/classical.00066.wav\n",
      "data2/classical/classical.00086.wav\n",
      "data2/classical/classical.00044.wav\n",
      "data2/classical/classical.00061.wav\n",
      "data2/classical/classical.00076.wav\n",
      "data2/classical/classical.00047.wav\n",
      "data2/classical/classical.00062.wav\n",
      "data2/classical/classical.00022.wav\n",
      "data2/classical/classical.00079.wav\n",
      "data2/classical/classical.00060.wav\n",
      "data2/classical/classical.00034.wav\n",
      "data2/classical/classical.00005.wav\n",
      "data2/classical/classical.00094.wav\n",
      "data2/classical/classical.00052.wav\n",
      "data2/classical/classical.00014.wav\n",
      "data2/classical/classical.00042.wav\n",
      "data2/classical/classical.00009.wav\n",
      "data2/classical/classical.00010.wav\n",
      "data2/classical/classical.00041.wav\n",
      "data2/classical/classical.00043.wav\n",
      "data2/classical/classical.00003.wav\n",
      "data2/classical/classical.00081.wav\n",
      "data2/classical/classical.00077.wav\n",
      "data2/classical/classical.00051.wav\n",
      "data2/classical/classical.00095.wav\n",
      "data2/classical/classical.00091.wav\n",
      "data2/classical/classical.00027.wav\n",
      "data2/classical/classical.00028.wav\n",
      "data2/classical/classical.00039.wav\n",
      "data2/classical/classical.00089.wav\n",
      "data2/classical/classical.00012.wav\n",
      "data2/classical/classical.00068.wav\n",
      "data2/classical/classical.00032.wav\n",
      "data2/classical/classical.00071.wav\n",
      "data2/classical/classical.00038.wav\n",
      "data2/classical/classical.00065.wav\n",
      "data2/classical/classical.00024.wav\n",
      "data2/classical/classical.00054.wav\n",
      "data2/classical/classical.00098.wav\n",
      "data2/classical/classical.00053.wav\n",
      "data2/classical/classical.00031.wav\n",
      "data2/classical/classical.00017.wav\n",
      "data2/classical/classical.00087.wav\n",
      "data2/classical/classical.00078.wav\n",
      "data2/classical/classical.00036.wav\n",
      "data2/classical/classical.00021.wav\n",
      "data2/classical/classical.00056.wav\n",
      "data2/classical/classical.00013.wav\n",
      "data2/classical/classical.00037.wav\n",
      "data2/classical/classical.00023.wav\n",
      "data2/classical/classical.00001.wav\n",
      "data2/classical/classical.00097.wav\n",
      "data2/classical/classical.00063.wav\n",
      "data2/classical/classical.00004.wav\n",
      "data2/classical/classical.00055.wav\n",
      "data2/classical/classical.00002.wav\n",
      "data2/classical/classical.00019.wav\n",
      "data2/classical/classical.00016.wav\n",
      "data2/classical/classical.00090.wav\n",
      "data2/classical/classical.00088.wav\n",
      "data2/classical/classical.00067.wav\n",
      "data2/classical/classical.00085.wav\n",
      "data2/jazz/jazz.00060.wav\n",
      "data2/jazz/jazz.00080.wav\n",
      "data2/jazz/jazz.00044.wav\n",
      "data2/jazz/jazz.00097.wav\n",
      "data2/jazz/jazz.00076.wav\n",
      "data2/jazz/jazz.00020.wav\n",
      "data2/jazz/jazz.00041.wav\n",
      "data2/jazz/jazz.00086.wav\n",
      "data2/jazz/jazz.00063.wav\n",
      "data2/jazz/jazz.00036.wav\n",
      "data2/jazz/jazz.00029.wav\n",
      "data2/jazz/jazz.00014.wav\n",
      "data2/jazz/jazz.00039.wav\n",
      "data2/jazz/jazz.00000.wav\n",
      "data2/jazz/jazz.00024.wav\n",
      "data2/jazz/jazz.00061.wav\n",
      "data2/jazz/jazz.00030.wav\n",
      "data2/jazz/jazz.00019.wav\n",
      "data2/jazz/jazz.00018.wav\n",
      "data2/jazz/jazz.00064.wav\n",
      "data2/jazz/jazz.00068.wav\n",
      "data2/jazz/jazz.00050.wav\n",
      "data2/jazz/jazz.00034.wav\n",
      "data2/jazz/jazz.00074.wav\n",
      "data2/jazz/jazz.00032.wav\n",
      "data2/jazz/jazz.00062.wav\n",
      "data2/jazz/jazz.00069.wav\n",
      "data2/jazz/jazz.00095.wav\n",
      "data2/jazz/jazz.00004.wav\n",
      "data2/jazz/jazz.00010.wav\n",
      "data2/jazz/jazz.00059.wav\n",
      "data2/jazz/jazz.00017.wav\n",
      "data2/jazz/jazz.00031.wav\n",
      "data2/jazz/jazz.00015.wav\n",
      "data2/jazz/jazz.00065.wav\n",
      "data2/jazz/jazz.00081.wav\n",
      "data2/jazz/jazz.00043.wav\n",
      "data2/jazz/jazz.00040.wav\n",
      "data2/jazz/jazz.00011.wav\n",
      "data2/jazz/jazz.00046.wav\n",
      "data2/jazz/jazz.00009.wav\n",
      "data2/jazz/jazz.00052.wav\n",
      "data2/jazz/jazz.00096.wav\n",
      "data2/jazz/jazz.00087.wav\n",
      "data2/jazz/jazz.00099.wav\n",
      "data2/jazz/jazz.00023.wav\n",
      "data2/jazz/jazz.00002.wav\n",
      "data2/jazz/jazz.00006.wav\n",
      "data2/jazz/jazz.00042.wav\n",
      "data2/jazz/jazz.00055.wav\n",
      "data2/jazz/jazz.00082.wav\n",
      "data2/jazz/jazz.00071.wav\n",
      "data2/jazz/jazz.00033.wav\n",
      "data2/jazz/jazz.00077.wav\n",
      "data2/jazz/jazz.00066.wav\n",
      "data2/jazz/jazz.00022.wav\n",
      "data2/jazz/jazz.00073.wav\n",
      "data2/jazz/jazz.00025.wav\n",
      "data2/jazz/jazz.00001.wav\n",
      "data2/jazz/jazz.00083.wav\n",
      "data2/jazz/jazz.00056.wav\n",
      "data2/jazz/jazz.00013.wav\n",
      "data2/jazz/jazz.00005.wav\n",
      "data2/jazz/jazz.00084.wav\n",
      "data2/jazz/jazz.00021.wav\n",
      "data2/jazz/jazz.00028.wav\n",
      "data2/jazz/jazz.00012.wav\n",
      "data2/jazz/jazz.00093.wav\n",
      "data2/jazz/jazz.00048.wav\n",
      "data2/jazz/jazz.00047.wav\n",
      "data2/jazz/jazz.00090.wav\n",
      "data2/jazz/jazz.00038.wav\n",
      "data2/jazz/jazz.00007.wav\n",
      "data2/jazz/jazz.00045.wav\n",
      "data2/jazz/jazz.00067.wav\n",
      "data2/jazz/jazz.00053.wav\n",
      "data2/jazz/jazz.00089.wav\n",
      "data2/jazz/jazz.00027.wav\n",
      "data2/jazz/jazz.00026.wav\n",
      "data2/jazz/jazz.00094.wav\n",
      "data2/jazz/jazz.00035.wav\n",
      "data2/jazz/jazz.00057.wav\n",
      "data2/jazz/jazz.00085.wav\n",
      "data2/jazz/jazz.00075.wav\n",
      "data2/jazz/jazz.00070.wav\n",
      "data2/jazz/jazz.00058.wav\n",
      "data2/jazz/jazz.00072.wav\n",
      "data2/jazz/jazz.00008.wav\n",
      "data2/jazz/jazz.00003.wav\n",
      "data2/jazz/jazz.00049.wav\n",
      "data2/jazz/jazz.00016.wav\n",
      "data2/jazz/jazz.00088.wav\n",
      "data2/jazz/jazz.00098.wav\n",
      "data2/jazz/jazz.00051.wav\n",
      "data2/jazz/jazz.00092.wav\n",
      "data2/jazz/jazz.00078.wav\n",
      "data2/jazz/jazz.00091.wav\n",
      "data2/jazz/jazz.00079.wav\n",
      "data2/jazz/jazz.00037.wav\n"
     ]
    },
    {
     "data": {
      "image/png": "[encoded data removed]",
      "text/plain": [
       "<Figure size 432x288 with 1 Axes>"
      ]
     },
     "metadata": {
      "needs_background": "light"
     },
     "output_type": "display_data"
    }
   ],
   "source": [
    "for i in range(len(filesnames)):\n",
    "    \n",
    "    genre=genrenames[i]\n",
    "    filename=filesnames[i]\n",
    "    endname=filename.split('/')\n",
    "#     print(endname)\n",
    "    endname=endname[-1]\n",
    "#     print(endname)\n",
    "    pathh=\"images/\"+genre+\"/\"+endname\n",
    "    print(pathh)\n",
    "    create_spectrogram(filename,pathh)"
   ]
  },
  {
   "cell_type": "code",
   "execution_count": 66,
   "id": "sporting-applicant",
   "metadata": {},
   "outputs": [],
   "source": []
  },
  {
   "cell_type": "markdown",
   "id": "hidden-oriental",
   "metadata": {},
   "source": [
    "### Loading Image Dataset"
   ]
  },
  {
   "cell_type": "code",
   "execution_count": 4,
   "id": "incoming-tournament",
   "metadata": {},
   "outputs": [
    {
     "name": "stdout",
     "output_type": "stream",
     "text": [
      "Found 947 files belonging to 10 classes.\n",
      "Using 758 files for training.\n"
     ]
    }
   ],
   "source": [
    "BATCH_SIZE=8\n",
    "TARGET_SIZEX=223\n",
    "TARGET_SIZEY=217\n",
    "NUM_CLASSES=10\n",
    "image_dataset=image_dataset_from_directory(\n",
    "  \"./images\",\n",
    "  validation_split=0.2,\n",
    "  subset=\"training\",\n",
    "  seed=42,\n",
    "  image_size=(TARGET_SIZEX, TARGET_SIZEY),\n",
    "  batch_size=BATCH_SIZE)"
   ]
  },
  {
   "cell_type": "code",
   "execution_count": 5,
   "id": "affecting-buffalo",
   "metadata": {},
   "outputs": [
    {
     "name": "stdout",
     "output_type": "stream",
     "text": [
      "Found 947 files belonging to 10 classes.\n",
      "Using 189 files for validation.\n"
     ]
    }
   ],
   "source": [
    "val_ds = image_dataset_from_directory(\n",
    "   \"./images\",\n",
    "  validation_split=0.2,\n",
    "  subset=\"validation\",\n",
    "  seed=42,\n",
    "  image_size=(TARGET_SIZEX, TARGET_SIZEY),\n",
    "  batch_size=BATCH_SIZE)"
   ]
  },
  {
   "cell_type": "markdown",
   "id": "indonesian-horizontal",
   "metadata": {},
   "source": [
    "## Building CNN"
   ]
  },
  {
   "cell_type": "code",
   "execution_count": 109,
   "id": "strong-linux",
   "metadata": {},
   "outputs": [],
   "source": [
    "model_save = tf.keras.callbacks.ModelCheckpoint('./cnnmodel.h5', \n",
    "                             save_best_only = True, \n",
    "                             save_weights_only = False,\n",
    "                             monitor = 'val_accuracy', \n",
    "                             mode = 'max', verbose = 1)\n",
    "early_stop = tf.keras.callbacks.EarlyStopping(monitor = 'val_accuracy', \n",
    "                           patience = 10 ,mode = 'max', verbose = 1,\n",
    "                           restore_best_weights = True)\n",
    "\n",
    "model = Sequential([\n",
    "  layers.experimental.preprocessing.Rescaling(1./255, input_shape=(TARGET_SIZEX, TARGET_SIZEY, 3)),\n",
    "  layers.Conv2D(16, 3, padding='same', activation='relu'),\n",
    "  layers.MaxPooling2D(),\n",
    "  layers.Conv2D(32, 3, padding='same', activation='relu'),\n",
    "  layers.MaxPooling2D(),\n",
    "  layers.Conv2D(64, 3, padding='same', activation='relu'),\n",
    "  layers.MaxPooling2D(),\n",
    "  layers.Dropout(0.3),\n",
    "  layers.Flatten(),\n",
    "  layers.Dense(128, activation='relu'),\n",
    "  layers.Dense(NUM_CLASSES,activation=\"softmax\")\n",
    "])"
   ]
  },
  {
   "cell_type": "code",
   "execution_count": 110,
   "id": "prescription-rover",
   "metadata": {},
   "outputs": [
    {
     "name": "stdout",
     "output_type": "stream",
     "text": [
      "Model: \"sequential_2\"\n",
      "_________________________________________________________________\n",
      "Layer (type)                 Output Shape              Param #   \n",
      "=================================================================\n",
      "rescaling_2 (Rescaling)      (None, 223, 217, 3)       0         \n",
      "_________________________________________________________________\n",
      "conv2d_6 (Conv2D)            (None, 223, 217, 16)      448       \n",
      "_________________________________________________________________\n",
      "max_pooling2d_6 (MaxPooling2 (None, 111, 108, 16)      0         \n",
      "_________________________________________________________________\n",
      "conv2d_7 (Conv2D)            (None, 111, 108, 32)      4640      \n",
      "_________________________________________________________________\n",
      "max_pooling2d_7 (MaxPooling2 (None, 55, 54, 32)        0         \n",
      "_________________________________________________________________\n",
      "conv2d_8 (Conv2D)            (None, 55, 54, 64)        18496     \n",
      "_________________________________________________________________\n",
      "max_pooling2d_8 (MaxPooling2 (None, 27, 27, 64)        0         \n",
      "_________________________________________________________________\n",
      "dropout_2 (Dropout)          (None, 27, 27, 64)        0         \n",
      "_________________________________________________________________\n",
      "flatten_2 (Flatten)          (None, 46656)             0         \n",
      "_________________________________________________________________\n",
      "dense_4 (Dense)              (None, 128)               5972096   \n",
      "_________________________________________________________________\n",
      "dense_5 (Dense)              (None, 10)                1290      \n",
      "=================================================================\n",
      "Total params: 5,996,970\n",
      "Trainable params: 5,996,970\n",
      "Non-trainable params: 0\n",
      "_________________________________________________________________\n"
     ]
    }
   ],
   "source": [
    "model.compile(optimizer=Adam(lr = 0.001),\n",
    "              loss=tf.keras.losses.SparseCategoricalCrossentropy(from_logits=True),\n",
    "              metrics=['accuracy'])\n",
    "\n",
    "model.summary()"
   ]
  },
  {
   "cell_type": "markdown",
   "id": "molecular-mother",
   "metadata": {},
   "source": [
    "### Training"
   ]
  },
  {
   "cell_type": "code",
   "execution_count": 8,
   "id": "stupid-charter",
   "metadata": {},
   "outputs": [
    {
     "name": "stdout",
     "output_type": "stream",
     "text": [
      "Epoch 1/40\n",
      "95/95 - 20s - loss: 2.3117 - accuracy: 0.2164 - val_loss: 2.0901 - val_accuracy: 0.2804\n",
      "\n",
      "Epoch 00001: val_accuracy improved from -inf to 0.28042, saving model to ./cnnmodel.h5\n",
      "Epoch 2/40\n",
      "95/95 - 19s - loss: 1.8828 - accuracy: 0.3166 - val_loss: 1.8282 - val_accuracy: 0.3122\n",
      "\n",
      "Epoch 00002: val_accuracy improved from 0.28042 to 0.31217, saving model to ./cnnmodel.h5\n",
      "Epoch 3/40\n",
      "95/95 - 19s - loss: 1.7092 - accuracy: 0.3892 - val_loss: 1.7629 - val_accuracy: 0.3545\n",
      "\n",
      "Epoch 00003: val_accuracy improved from 0.31217 to 0.35450, saving model to ./cnnmodel.h5\n",
      "Epoch 4/40\n",
      "95/95 - 19s - loss: 1.4867 - accuracy: 0.4749 - val_loss: 1.6843 - val_accuracy: 0.3862\n",
      "\n",
      "Epoch 00004: val_accuracy improved from 0.35450 to 0.38624, saving model to ./cnnmodel.h5\n",
      "Epoch 5/40\n",
      "95/95 - 19s - loss: 1.2328 - accuracy: 0.5409 - val_loss: 1.5681 - val_accuracy: 0.4180\n",
      "\n",
      "Epoch 00005: val_accuracy improved from 0.38624 to 0.41799, saving model to ./cnnmodel.h5\n",
      "Epoch 6/40\n",
      "95/95 - 19s - loss: 1.0219 - accuracy: 0.6240 - val_loss: 1.4671 - val_accuracy: 0.4709\n",
      "\n",
      "Epoch 00006: val_accuracy improved from 0.41799 to 0.47090, saving model to ./cnnmodel.h5\n",
      "Epoch 7/40\n",
      "95/95 - 19s - loss: 0.7651 - accuracy: 0.7084 - val_loss: 1.4695 - val_accuracy: 0.5185\n",
      "\n",
      "Epoch 00007: val_accuracy improved from 0.47090 to 0.51852, saving model to ./cnnmodel.h5\n",
      "Epoch 8/40\n",
      "95/95 - 19s - loss: 0.4976 - accuracy: 0.8298 - val_loss: 1.6984 - val_accuracy: 0.5608\n",
      "\n",
      "Epoch 00008: val_accuracy improved from 0.51852 to 0.56085, saving model to ./cnnmodel.h5\n",
      "Epoch 9/40\n",
      "95/95 - 19s - loss: 0.3211 - accuracy: 0.8852 - val_loss: 1.5601 - val_accuracy: 0.5926\n",
      "\n",
      "Epoch 00009: val_accuracy improved from 0.56085 to 0.59259, saving model to ./cnnmodel.h5\n",
      "Epoch 10/40\n",
      "95/95 - 19s - loss: 0.1341 - accuracy: 0.9591 - val_loss: 1.6435 - val_accuracy: 0.5979\n",
      "\n",
      "Epoch 00010: val_accuracy improved from 0.59259 to 0.59788, saving model to ./cnnmodel.h5\n",
      "Epoch 11/40\n",
      "95/95 - 19s - loss: 0.0641 - accuracy: 0.9868 - val_loss: 1.9780 - val_accuracy: 0.6085\n",
      "\n",
      "Epoch 00011: val_accuracy improved from 0.59788 to 0.60847, saving model to ./cnnmodel.h5\n",
      "Epoch 12/40\n",
      "95/95 - 19s - loss: 0.0381 - accuracy: 0.9934 - val_loss: 1.8571 - val_accuracy: 0.6296\n",
      "\n",
      "Epoch 00012: val_accuracy improved from 0.60847 to 0.62963, saving model to ./cnnmodel.h5\n",
      "Epoch 13/40\n",
      "95/95 - 19s - loss: 0.0496 - accuracy: 0.9855 - val_loss: 2.8794 - val_accuracy: 0.6085\n",
      "\n",
      "Epoch 00013: val_accuracy did not improve from 0.62963\n",
      "Epoch 14/40\n",
      "95/95 - 19s - loss: 0.1071 - accuracy: 0.9631 - val_loss: 1.9850 - val_accuracy: 0.5767\n",
      "\n",
      "Epoch 00014: val_accuracy did not improve from 0.62963\n",
      "Epoch 15/40\n",
      "95/95 - 19s - loss: 0.0433 - accuracy: 0.9934 - val_loss: 1.6814 - val_accuracy: 0.6614\n",
      "\n",
      "Epoch 00015: val_accuracy improved from 0.62963 to 0.66138, saving model to ./cnnmodel.h5\n",
      "Epoch 16/40\n",
      "95/95 - 19s - loss: 0.0158 - accuracy: 0.9974 - val_loss: 1.7991 - val_accuracy: 0.6614\n",
      "\n",
      "Epoch 00016: val_accuracy did not improve from 0.66138\n",
      "Epoch 17/40\n",
      "95/95 - 20s - loss: 0.0222 - accuracy: 0.9947 - val_loss: 2.0182 - val_accuracy: 0.6455\n",
      "\n",
      "Epoch 00017: val_accuracy did not improve from 0.66138\n",
      "Epoch 18/40\n",
      "95/95 - 19s - loss: 0.0246 - accuracy: 0.9960 - val_loss: 1.9611 - val_accuracy: 0.6455\n",
      "\n",
      "Epoch 00018: val_accuracy did not improve from 0.66138\n",
      "Epoch 19/40\n",
      "95/95 - 19s - loss: 0.0136 - accuracy: 0.9974 - val_loss: 1.9021 - val_accuracy: 0.6455\n",
      "\n",
      "Epoch 00019: val_accuracy did not improve from 0.66138\n",
      "Epoch 20/40\n",
      "95/95 - 19s - loss: 0.0179 - accuracy: 0.9974 - val_loss: 2.0836 - val_accuracy: 0.6667\n",
      "\n",
      "Epoch 00020: val_accuracy improved from 0.66138 to 0.66667, saving model to ./cnnmodel.h5\n",
      "Epoch 21/40\n",
      "95/95 - 19s - loss: 0.0155 - accuracy: 0.9974 - val_loss: 2.0297 - val_accuracy: 0.6349\n",
      "\n",
      "Epoch 00021: val_accuracy did not improve from 0.66667\n",
      "Epoch 22/40\n",
      "95/95 - 19s - loss: 0.0083 - accuracy: 0.9974 - val_loss: 1.9615 - val_accuracy: 0.6667\n",
      "\n",
      "Epoch 00022: val_accuracy did not improve from 0.66667\n",
      "Epoch 23/40\n",
      "95/95 - 19s - loss: 0.0100 - accuracy: 0.9974 - val_loss: 1.9484 - val_accuracy: 0.6561\n",
      "\n",
      "Epoch 00023: val_accuracy did not improve from 0.66667\n",
      "Epoch 24/40\n",
      "95/95 - 19s - loss: 0.0107 - accuracy: 0.9974 - val_loss: 1.8337 - val_accuracy: 0.6825\n",
      "\n",
      "Epoch 00024: val_accuracy improved from 0.66667 to 0.68254, saving model to ./cnnmodel.h5\n",
      "Epoch 25/40\n",
      "95/95 - 19s - loss: 0.0077 - accuracy: 0.9974 - val_loss: 1.8526 - val_accuracy: 0.6825\n",
      "\n",
      "Epoch 00025: val_accuracy did not improve from 0.68254\n",
      "Epoch 26/40\n",
      "95/95 - 19s - loss: 0.0064 - accuracy: 0.9974 - val_loss: 1.8546 - val_accuracy: 0.6667\n",
      "\n",
      "Epoch 00026: val_accuracy did not improve from 0.68254\n",
      "Epoch 27/40\n",
      "95/95 - 19s - loss: 0.0072 - accuracy: 0.9974 - val_loss: 1.8231 - val_accuracy: 0.6614\n",
      "\n",
      "Epoch 00027: val_accuracy did not improve from 0.68254\n",
      "Epoch 28/40\n",
      "95/95 - 19s - loss: 0.0051 - accuracy: 0.9974 - val_loss: 1.9009 - val_accuracy: 0.6878\n",
      "\n",
      "Epoch 00028: val_accuracy improved from 0.68254 to 0.68783, saving model to ./cnnmodel.h5\n",
      "Epoch 29/40\n",
      "95/95 - 19s - loss: 0.0046 - accuracy: 0.9974 - val_loss: 1.9349 - val_accuracy: 0.6825\n",
      "\n",
      "Epoch 00029: val_accuracy did not improve from 0.68783\n",
      "Epoch 30/40\n",
      "95/95 - 19s - loss: 0.0054 - accuracy: 0.9974 - val_loss: 1.9488 - val_accuracy: 0.6455\n",
      "\n",
      "Epoch 00030: val_accuracy did not improve from 0.68783\n",
      "Epoch 31/40\n",
      "95/95 - 19s - loss: 0.0065 - accuracy: 0.9974 - val_loss: 1.9620 - val_accuracy: 0.6825\n",
      "\n",
      "Epoch 00031: val_accuracy did not improve from 0.68783\n",
      "Epoch 32/40\n",
      "95/95 - 19s - loss: 0.0080 - accuracy: 0.9974 - val_loss: 1.7923 - val_accuracy: 0.6772\n",
      "\n",
      "Epoch 00032: val_accuracy did not improve from 0.68783\n",
      "Epoch 33/40\n",
      "95/95 - 19s - loss: 0.0039 - accuracy: 0.9974 - val_loss: 1.8740 - val_accuracy: 0.6614\n",
      "\n",
      "Epoch 00033: val_accuracy did not improve from 0.68783\n",
      "Epoch 34/40\n",
      "95/95 - 19s - loss: 0.0049 - accuracy: 0.9974 - val_loss: 1.8926 - val_accuracy: 0.6667\n",
      "\n",
      "Epoch 00034: val_accuracy did not improve from 0.68783\n",
      "Epoch 35/40\n",
      "95/95 - 19s - loss: 0.0043 - accuracy: 0.9974 - val_loss: 1.8986 - val_accuracy: 0.6720\n",
      "\n",
      "Epoch 00035: val_accuracy did not improve from 0.68783\n",
      "Epoch 36/40\n",
      "95/95 - 19s - loss: 0.0045 - accuracy: 0.9974 - val_loss: 1.9578 - val_accuracy: 0.6667\n",
      "\n",
      "Epoch 00036: val_accuracy did not improve from 0.68783\n",
      "Epoch 37/40\n",
      "95/95 - 19s - loss: 0.0036 - accuracy: 0.9974 - val_loss: 2.0425 - val_accuracy: 0.6825\n",
      "\n",
      "Epoch 00037: val_accuracy did not improve from 0.68783\n",
      "Epoch 38/40\n",
      "95/95 - 19s - loss: 0.1482 - accuracy: 0.9433 - val_loss: 2.4187 - val_accuracy: 0.5132\n",
      "\n",
      "Epoch 00038: val_accuracy did not improve from 0.68783\n",
      "Restoring model weights from the end of the best epoch.\n",
      "Epoch 00038: early stopping\n"
     ]
    }
   ],
   "source": [
    "\n",
    "x=model.fit(\n",
    "  image_dataset,\n",
    "  validation_data=val_ds,\n",
    "  epochs=40,\n",
    "  verbose=2,\n",
    "callbacks=[model_save,early_stop]\n",
    ")"
   ]
  },
  {
   "cell_type": "markdown",
   "id": "hybrid-immigration",
   "metadata": {},
   "source": [
    "We got the best accuracy at epoch 28 and model was saved at this state"
   ]
  },
  {
   "cell_type": "code",
   "execution_count": 9,
   "id": "geological-mileage",
   "metadata": {},
   "outputs": [
    {
     "data": {
      "image/png": "[encoded data removed]",
      "text/plain": [
       "<Figure size 720x360 with 2 Axes>"
      ]
     },
     "metadata": {
      "needs_background": "light"
     },
     "output_type": "display_data"
    }
   ],
   "source": [
    "def plot_hist(history):\n",
    "    acc = history.history['accuracy']\n",
    "    val_acc = history.history['val_accuracy']\n",
    "\n",
    "    loss = history.history['loss']\n",
    "    val_loss = history.history['val_loss']\n",
    "\n",
    "    plt.figure(figsize=(10, 5))\n",
    "    \n",
    "    plt.subplot(1, 2, 1)\n",
    "    plt.plot(acc, label='Training Accuracy')\n",
    "    plt.plot(val_acc, label='Validation Accuracy')\n",
    "    plt.legend(loc='lower right')\n",
    "    plt.title('Training and Validation Accuracy')\n",
    "    plt.grid()\n",
    "\n",
    "    plt.subplot(1, 2, 2)\n",
    "    plt.plot(loss, label='Training Loss')\n",
    "    plt.plot(val_loss, label='Validation Loss')\n",
    "    plt.legend(loc='upper right')\n",
    "    plt.title('Training and Validation Loss')\n",
    "    plt.grid()\n",
    "    plt.show()\n",
    "plot_hist(x)"
   ]
  },
  {
   "cell_type": "code",
   "execution_count": 28,
   "id": "supported-egypt",
   "metadata": {},
   "outputs": [],
   "source": [
    "y = []\n",
    "x =[]\n",
    "for images , label in val_ds.take(100) :\n",
    "    for i in range(len(images)):\n",
    "\n",
    "        x.append(images[i])\n",
    "        y.append(label[i]) \n"
   ]
  },
  {
   "cell_type": "code",
   "execution_count": 30,
   "id": "matched-messaging",
   "metadata": {},
   "outputs": [
    {
     "name": "stdout",
     "output_type": "stream",
     "text": [
      "24/24 [==============================] - 1s 44ms/step - loss: 1.9009 - accuracy: 0.6878\n",
      "Accuracy -  0.6878306865692139\n"
     ]
    }
   ],
   "source": [
    "loss,acc=model.evaluate(val_ds)\n",
    "print(\"Accuracy - \",acc)"
   ]
  },
  {
   "cell_type": "code",
   "execution_count": 75,
   "id": "global-lying",
   "metadata": {},
   "outputs": [],
   "source": [
    "labels=val_ds.class_names"
   ]
  },
  {
   "cell_type": "code",
   "execution_count": 90,
   "id": "surgical-indie",
   "metadata": {},
   "outputs": [
    {
     "name": "stdout",
     "output_type": "stream",
     "text": [
      "['blues', 'classical', 'country', 'disco', 'hiphop', 'jazz', 'metal', 'pop', 'reggae', 'rock']\n"
     ]
    }
   ],
   "source": [
    "print(labels)"
   ]
  },
  {
   "cell_type": "code",
   "execution_count": 158,
   "id": "elect-matthew",
   "metadata": {},
   "outputs": [],
   "source": [
    "\n",
    "\n",
    "def create_spectrogram(filename,name):\n",
    "    plt.interactive(False)\n",
    "    clip, sample_rate = librosa.load(filename, sr=None,duration=30)\n",
    "    fig = plt.figure(figsize=[0.72,0.72])\n",
    "    ax = fig.add_subplot(111)\n",
    "    ax.axes.get_xaxis().set_visible(False)\n",
    "    ax.axes.get_yaxis().set_visible(False)\n",
    "    ax.set_frame_on(False)\n",
    "    S = librosa.feature.melspectrogram(y=clip, sr=sample_rate)\n",
    "    librosa.display.specshow(librosa.power_to_db(S, ref=np.max))\n",
    "    filename  = './' + name + '.jpg'\n",
    "    plt.savefig(filename, dpi=800, bbox_inches='tight',pad_inches=0)\n",
    "    plt.close()    \n",
    "    fig.clf()\n",
    "    plt.close(fig)\n",
    "    plt.close('all')\n",
    "    del filename,name,clip,sample_rate,fig,ax,S\n",
    "\n",
    "\n",
    "def predict_single(path):\n",
    "    create_spectrogram(path,\"temp\")\n",
    "    image = tf.keras.preprocessing.image.load_img(path=\"./temp.jpg\",target_size=(TARGET_SIZEX, TARGET_SIZEY))\n",
    "    input_arr = tf.keras.preprocessing.image.img_to_array(image)\n",
    "    input_arr = np.array([input_arr])  # Convert single image to a batch.\n",
    "    predictions = model.predict(input_arr)\n",
    "#     print(predictions[0])\n",
    "    samp={}\n",
    "    \n",
    "    for i in range(10):\n",
    "        samp[labels[i]]=predictions[0][i]\n",
    "    return list({k: v for k, v in sorted(samp.items(), key=lambda item: item[1],reverse=True)}.keys())[:3]\n",
    "#     return list(sorted(samp,reverse=True))\n",
    "# model.predict()"
   ]
  },
  {
   "cell_type": "code",
   "execution_count": 159,
   "id": "spectacular-disclosure",
   "metadata": {},
   "outputs": [],
   "source": [
    "model = keras.models.load_model('./cnnmodel.h5')"
   ]
  },
  {
   "cell_type": "code",
   "execution_count": 160,
   "id": "mediterranean-consultancy",
   "metadata": {},
   "outputs": [
    {
     "data": {
      "text/plain": [
       "['blues', 'jazz', 'reggae']"
      ]
     },
     "execution_count": 160,
     "metadata": {},
     "output_type": "execute_result"
    }
   ],
   "source": [
    "predict_single(\"./sample/bashful.wav\")\n"
   ]
  },
  {
   "cell_type": "code",
   "execution_count": 161,
   "id": "likely-today",
   "metadata": {},
   "outputs": [
    {
     "data": {
      "text/plain": [
       "['blues', 'country', 'rock']"
      ]
     },
     "execution_count": 161,
     "metadata": {},
     "output_type": "execute_result"
    }
   ],
   "source": [
    "predict_single(\"./sample/sinceseventeen.wav\")"
   ]
  },
  {
   "cell_type": "code",
   "execution_count": 162,
   "id": "competitive-spell",
   "metadata": {},
   "outputs": [
    {
     "data": {
      "text/plain": [
       "['hiphop', 'reggae', 'metal']"
      ]
     },
     "execution_count": 162,
     "metadata": {},
     "output_type": "execute_result"
    }
   ],
   "source": [
    "predict_single(\"./sample/mytribe.wav\")"
   ]
  }
 ],
 "metadata": {
  "kernelspec": {
   "display_name": "Python 3",
   "language": "python",
   "name": "python3"
  },
  "language_info": {
   "codemirror_mode": {
    "name": "ipython",
    "version": 3
   },
   "file_extension": ".py",
   "mimetype": "text/x-python",
   "name": "python",
   "nbconvert_exporter": "python",
   "pygments_lexer": "ipython3",
   "version": "3.6.9"
  }
 },
 "nbformat": 4,
 "nbformat_minor": 5
}
