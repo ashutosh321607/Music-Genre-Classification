{
 "cells": [
  {
   "cell_type": "code",
   "execution_count": 56,
   "id": "virtual-money",
   "metadata": {},
   "outputs": [],
   "source": [
    "# %pip install matplotlib\n",
    "import librosa.display\n",
    "import numpy as np\n",
    "import matplotlib.pyplot as plt\n",
    "import os\n",
    "from matplotlib.backends.backend_agg import FigureCanvasAgg as FigureCanvas"
   ]
  },
  {
   "cell_type": "markdown",
   "id": "productive-gates",
   "metadata": {},
   "source": [
    "We will create Mel Spectrogram Images for each of the music files.These Mel spectrogram images will be used as INput for Our CNN model"
   ]
  },
  {
   "cell_type": "code",
   "execution_count": 2,
   "id": "coordinate-median",
   "metadata": {},
   "outputs": [],
   "source": [
    "\n",
    "\n",
    "def create_spectrogram(filename,name):\n",
    "    plt.interactive(False)\n",
    "    clip, sample_rate = librosa.load(filename, sr=None)\n",
    "    fig = plt.figure(figsize=[0.72,0.72])\n",
    "    ax = fig.add_subplot(111)\n",
    "    ax.axes.get_xaxis().set_visible(False)\n",
    "    ax.axes.get_yaxis().set_visible(False)\n",
    "    ax.set_frame_on(False)\n",
    "    S = librosa.feature.melspectrogram(y=clip, sr=sample_rate)\n",
    "    librosa.display.specshow(librosa.power_to_db(S, ref=np.max))\n",
    "    filename  = './' + name + '.jpg'\n",
    "    plt.savefig(filename, dpi=800, bbox_inches='tight',pad_inches=0)\n",
    "    plt.close()    \n",
    "    fig.clf()\n",
    "    plt.close(fig)\n",
    "    plt.close('all')\n",
    "    del filename,name,clip,sample_rate,fig,ax,S\n"
   ]
  },
  {
   "cell_type": "markdown",
   "id": "cooperative-money",
   "metadata": {},
   "source": [
    "For each of the music file I create one image file and store it in the images directory"
   ]
  },
  {
   "cell_type": "code",
   "execution_count": 51,
   "id": "third-sender",
   "metadata": {},
   "outputs": [],
   "source": [
    "\n",
    "filesnames=[]\n",
    "genrenames=[]\n",
    "for root, dirs, files in os.walk(path):\n",
    "    for name in files:\n",
    "        filename = os.path.join(root, name)\n",
    "        filesnames.append(filename)\n",
    "        \n",
    "        genrenames.append(filename.split(\"/\")[3])\n",
    "try:\n",
    "    os.mkdir('images')\n",
    "except FileExistsError as e:\n",
    "    None\n",
    "finally:\n",
    "    None\n",
    "for name in set(genrenames):\n",
    "    try:\n",
    "        os.mkdir(\"./images/\"+name)\n",
    "    except FileExistsError as e:\n",
    "        None    "
   ]
  },
  {
   "cell_type": "code",
   "execution_count": 21,
   "id": "first-competition",
   "metadata": {},
   "outputs": [],
   "source": []
  },
  {
   "cell_type": "code",
   "execution_count": 6,
   "id": "clinical-embassy",
   "metadata": {},
   "outputs": [
    {
     "name": "stdout",
     "output_type": "stream",
     "text": [
      "data2/classical/classical.00020.wav\n",
      "data2/classical/classical.00074.wav\n",
      "data2/classical/classical.00092.wav\n",
      "data2/classical/classical.00018.wav\n",
      "data2/classical/classical.00045.wav\n",
      "data2/classical/classical.00050.wav\n",
      "data2/classical/classical.00064.wav\n",
      "data2/classical/classical.00084.wav\n",
      "data2/classical/classical.00011.wav\n",
      "data2/classical/classical.00083.wav\n",
      "data2/classical/classical.00099.wav\n",
      "data2/classical/classical.00093.wav\n",
      "data2/classical/classical.00015.wav\n",
      "data2/classical/classical.00008.wav\n",
      "data2/classical/classical.00026.wav\n",
      "data2/classical/classical.00033.wav\n",
      "data2/classical/classical.00096.wav\n",
      "data2/classical/classical.00082.wav\n",
      "data2/classical/classical.00006.wav\n",
      "data2/classical/classical.00073.wav\n",
      "data2/classical/classical.00049.wav\n",
      "data2/classical/classical.00040.wav\n",
      "data2/classical/classical.00007.wav\n",
      "data2/classical/classical.00046.wav\n",
      "data2/classical/classical.00048.wav\n",
      "data2/classical/classical.00059.wav\n",
      "data2/classical/classical.00058.wav\n",
      "data2/classical/classical.00080.wav\n",
      "data2/classical/classical.00025.wav\n",
      "data2/classical/classical.00000.wav\n",
      "data2/classical/classical.00057.wav\n",
      "data2/classical/classical.00029.wav\n",
      "data2/classical/classical.00070.wav\n",
      "data2/classical/classical.00035.wav\n",
      "data2/classical/classical.00075.wav\n",
      "data2/classical/classical.00072.wav\n",
      "data2/classical/classical.00069.wav\n",
      "data2/classical/classical.00030.wav\n",
      "data2/classical/classical.00066.wav\n",
      "data2/classical/classical.00086.wav\n",
      "data2/classical/classical.00044.wav\n",
      "data2/classical/classical.00061.wav\n",
      "data2/classical/classical.00076.wav\n",
      "data2/classical/classical.00047.wav\n",
      "data2/classical/classical.00062.wav\n",
      "data2/classical/classical.00022.wav\n",
      "data2/classical/classical.00079.wav\n",
      "data2/classical/classical.00060.wav\n",
      "data2/classical/classical.00034.wav\n",
      "data2/classical/classical.00005.wav\n",
      "data2/classical/classical.00094.wav\n",
      "data2/classical/classical.00052.wav\n",
      "data2/classical/classical.00014.wav\n",
      "data2/classical/classical.00042.wav\n",
      "data2/classical/classical.00009.wav\n",
      "data2/classical/classical.00010.wav\n",
      "data2/classical/classical.00041.wav\n",
      "data2/classical/classical.00043.wav\n",
      "data2/classical/classical.00003.wav\n",
      "data2/classical/classical.00081.wav\n",
      "data2/classical/classical.00077.wav\n",
      "data2/classical/classical.00051.wav\n",
      "data2/classical/classical.00095.wav\n",
      "data2/classical/classical.00091.wav\n",
      "data2/classical/classical.00027.wav\n",
      "data2/classical/classical.00028.wav\n",
      "data2/classical/classical.00039.wav\n",
      "data2/classical/classical.00089.wav\n",
      "data2/classical/classical.00012.wav\n",
      "data2/classical/classical.00068.wav\n",
      "data2/classical/classical.00032.wav\n",
      "data2/classical/classical.00071.wav\n",
      "data2/classical/classical.00038.wav\n",
      "data2/classical/classical.00065.wav\n",
      "data2/classical/classical.00024.wav\n",
      "data2/classical/classical.00054.wav\n",
      "data2/classical/classical.00098.wav\n",
      "data2/classical/classical.00053.wav\n",
      "data2/classical/classical.00031.wav\n",
      "data2/classical/classical.00017.wav\n",
      "data2/classical/classical.00087.wav\n",
      "data2/classical/classical.00078.wav\n",
      "data2/classical/classical.00036.wav\n",
      "data2/classical/classical.00021.wav\n",
      "data2/classical/classical.00056.wav\n",
      "data2/classical/classical.00013.wav\n",
      "data2/classical/classical.00037.wav\n",
      "data2/classical/classical.00023.wav\n",
      "data2/classical/classical.00001.wav\n",
      "data2/classical/classical.00097.wav\n",
      "data2/classical/classical.00063.wav\n",
      "data2/classical/classical.00004.wav\n",
      "data2/classical/classical.00055.wav\n",
      "data2/classical/classical.00002.wav\n",
      "data2/classical/classical.00019.wav\n",
      "data2/classical/classical.00016.wav\n",
      "data2/classical/classical.00090.wav\n",
      "data2/classical/classical.00088.wav\n",
      "data2/classical/classical.00067.wav\n",
      "data2/classical/classical.00085.wav\n",
      "data2/jazz/jazz.00060.wav\n",
      "data2/jazz/jazz.00080.wav\n",
      "data2/jazz/jazz.00044.wav\n",
      "data2/jazz/jazz.00097.wav\n",
      "data2/jazz/jazz.00076.wav\n",
      "data2/jazz/jazz.00020.wav\n",
      "data2/jazz/jazz.00041.wav\n",
      "data2/jazz/jazz.00086.wav\n",
      "data2/jazz/jazz.00063.wav\n",
      "data2/jazz/jazz.00036.wav\n",
      "data2/jazz/jazz.00029.wav\n",
      "data2/jazz/jazz.00014.wav\n",
      "data2/jazz/jazz.00039.wav\n",
      "data2/jazz/jazz.00000.wav\n",
      "data2/jazz/jazz.00024.wav\n",
      "data2/jazz/jazz.00061.wav\n",
      "data2/jazz/jazz.00030.wav\n",
      "data2/jazz/jazz.00019.wav\n",
      "data2/jazz/jazz.00018.wav\n",
      "data2/jazz/jazz.00064.wav\n",
      "data2/jazz/jazz.00068.wav\n",
      "data2/jazz/jazz.00050.wav\n",
      "data2/jazz/jazz.00034.wav\n",
      "data2/jazz/jazz.00074.wav\n",
      "data2/jazz/jazz.00032.wav\n",
      "data2/jazz/jazz.00062.wav\n",
      "data2/jazz/jazz.00069.wav\n",
      "data2/jazz/jazz.00095.wav\n",
      "data2/jazz/jazz.00004.wav\n",
      "data2/jazz/jazz.00010.wav\n",
      "data2/jazz/jazz.00059.wav\n",
      "data2/jazz/jazz.00017.wav\n",
      "data2/jazz/jazz.00031.wav\n",
      "data2/jazz/jazz.00015.wav\n",
      "data2/jazz/jazz.00065.wav\n",
      "data2/jazz/jazz.00081.wav\n",
      "data2/jazz/jazz.00043.wav\n",
      "data2/jazz/jazz.00040.wav\n",
      "data2/jazz/jazz.00011.wav\n",
      "data2/jazz/jazz.00046.wav\n",
      "data2/jazz/jazz.00009.wav\n",
      "data2/jazz/jazz.00052.wav\n",
      "data2/jazz/jazz.00096.wav\n",
      "data2/jazz/jazz.00087.wav\n",
      "data2/jazz/jazz.00099.wav\n",
      "data2/jazz/jazz.00023.wav\n",
      "data2/jazz/jazz.00002.wav\n",
      "data2/jazz/jazz.00006.wav\n",
      "data2/jazz/jazz.00042.wav\n",
      "data2/jazz/jazz.00055.wav\n",
      "data2/jazz/jazz.00082.wav\n",
      "data2/jazz/jazz.00071.wav\n",
      "data2/jazz/jazz.00033.wav\n",
      "data2/jazz/jazz.00077.wav\n",
      "data2/jazz/jazz.00066.wav\n",
      "data2/jazz/jazz.00022.wav\n",
      "data2/jazz/jazz.00073.wav\n",
      "data2/jazz/jazz.00025.wav\n",
      "data2/jazz/jazz.00001.wav\n",
      "data2/jazz/jazz.00083.wav\n",
      "data2/jazz/jazz.00056.wav\n",
      "data2/jazz/jazz.00013.wav\n",
      "data2/jazz/jazz.00005.wav\n",
      "data2/jazz/jazz.00084.wav\n",
      "data2/jazz/jazz.00021.wav\n",
      "data2/jazz/jazz.00028.wav\n",
      "data2/jazz/jazz.00012.wav\n",
      "data2/jazz/jazz.00093.wav\n",
      "data2/jazz/jazz.00048.wav\n",
      "data2/jazz/jazz.00047.wav\n",
      "data2/jazz/jazz.00090.wav\n",
      "data2/jazz/jazz.00038.wav\n",
      "data2/jazz/jazz.00007.wav\n",
      "data2/jazz/jazz.00045.wav\n",
      "data2/jazz/jazz.00067.wav\n",
      "data2/jazz/jazz.00053.wav\n",
      "data2/jazz/jazz.00089.wav\n",
      "data2/jazz/jazz.00027.wav\n",
      "data2/jazz/jazz.00026.wav\n",
      "data2/jazz/jazz.00094.wav\n",
      "data2/jazz/jazz.00035.wav\n",
      "data2/jazz/jazz.00057.wav\n",
      "data2/jazz/jazz.00085.wav\n",
      "data2/jazz/jazz.00075.wav\n",
      "data2/jazz/jazz.00070.wav\n",
      "data2/jazz/jazz.00058.wav\n",
      "data2/jazz/jazz.00072.wav\n",
      "data2/jazz/jazz.00008.wav\n",
      "data2/jazz/jazz.00003.wav\n",
      "data2/jazz/jazz.00049.wav\n",
      "data2/jazz/jazz.00016.wav\n",
      "data2/jazz/jazz.00088.wav\n",
      "data2/jazz/jazz.00098.wav\n",
      "data2/jazz/jazz.00051.wav\n",
      "data2/jazz/jazz.00092.wav\n",
      "data2/jazz/jazz.00078.wav\n",
      "data2/jazz/jazz.00091.wav\n",
      "data2/jazz/jazz.00079.wav\n",
      "data2/jazz/jazz.00037.wav\n"
     ]
    },
    {
     "data": {
      "image/png": "[encoded data removed]",
      "text/plain": [
       "<Figure size 432x288 with 1 Axes>"
      ]
     },
     "metadata": {
      "needs_background": "light"
     },
     "output_type": "display_data"
    }
   ],
   "source": [
    "for i in range(len(filesnames)):\n",
    "    \n",
    "    genre=genrenames[i]\n",
    "    filename=filesnames[i]\n",
    "    endname=filename.split('/')\n",
    "#     print(endname)\n",
    "    endname=endname[-1]\n",
    "#     print(endname)\n",
    "    pathh=\"images/\"+genre+\"/\"+endname\n",
    "    print(pathh)\n",
    "    create_spectrogram(filename,pathh)"
   ]
  },
  {
   "cell_type": "code",
   "execution_count": 7,
   "id": "sporting-applicant",
   "metadata": {},
   "outputs": [],
   "source": [
    "import tensorflow as tf\n",
    "from tensorflow.keras.preprocessing import image_dataset_from_directory\n",
    "from tensorflow.keras.optimizers import Adam"
   ]
  },
  {
   "cell_type": "markdown",
   "id": "rental-polyester",
   "metadata": {},
   "source": [
    "### Loading Image Dataset"
   ]
  },
  {
   "cell_type": "code",
   "execution_count": 32,
   "id": "incoming-tournament",
   "metadata": {},
   "outputs": [
    {
     "name": "stdout",
     "output_type": "stream",
     "text": [
      "Found 947 files belonging to 10 classes.\n",
      "Using 758 files for training.\n"
     ]
    }
   ],
   "source": [
    "BATCH_SIZE=8\n",
    "TARGET_SIZEX=446  \n",
    "TARGET_SIZEY=434\n",
    "NUM_CLASSES=10\n",
    "image_dataset=image_dataset_from_directory(\n",
    "  \"./images\",\n",
    "  validation_split=0.2,\n",
    "  subset=\"training\",\n",
    "  seed=42,\n",
    "  image_size=(TARGET_SIZEX, TARGET_SIZEY),\n",
    "  batch_size=BATCH_SIZE)"
   ]
  },
  {
   "cell_type": "code",
   "execution_count": 9,
   "id": "affecting-buffalo",
   "metadata": {},
   "outputs": [
    {
     "name": "stdout",
     "output_type": "stream",
     "text": [
      "Found 999 files belonging to 10 classes.\n",
      "Using 199 files for validation.\n"
     ]
    }
   ],
   "source": [
    "val_ds = image_dataset_from_directory(\n",
    "   \"./images\",\n",
    "  validation_split=0.2,\n",
    "  subset=\"validation\",\n",
    "  seed=42,\n",
    "  image_size=(432, 288),\n",
    "  batch_size=BATCH_SIZE)"
   ]
  },
  {
   "cell_type": "markdown",
   "id": "mechanical-month",
   "metadata": {},
   "source": [
    "## Building CNN"
   ]
  },
  {
   "cell_type": "code",
   "execution_count": 53,
   "id": "unexpected-palmer",
   "metadata": {},
   "outputs": [],
   "source": [
    "from tensorflow.keras import models, layers\n",
    "from tensorflow.keras.preprocessing import image_dataset_from_directory\n",
    "from tensorflow.keras.models import Sequential\n",
    "model = Sequential([\n",
    "  layers.experimental.preprocessing.Rescaling(1./255, input_shape=(TARGET_SIZEX, TARGET_SIZEY, 3)),\n",
    "  layers.Conv2D(16, 3, padding='same', activation='relu'),\n",
    "  layers.MaxPooling2D(),\n",
    "  layers.Conv2D(32, 3, padding='same', activation='relu'),\n",
    "  layers.MaxPooling2D(),\n",
    "  layers.Conv2D(64, 3, padding='same', activation='relu'),\n",
    "  layers.MaxPooling2D(),\n",
    "  layers.Dropout(0.3),\n",
    "  layers.Flatten(),\n",
    "  layers.Dense(128, activation='relu'),\n",
    "  layers.Dense(NUM_CLASSES,activation=\"softmax\")\n",
    "])"
   ]
  },
  {
   "cell_type": "code",
   "execution_count": 54,
   "id": "prescription-rover",
   "metadata": {},
   "outputs": [],
   "source": [
    "model.compile(optimizer=Adam(lr = 0.001),\n",
    "              loss=tf.keras.losses.SparseCategoricalCrossentropy(from_logits=True),\n",
    "              metrics=['accuracy'])\n",
    "\n"
   ]
  },
  {
   "cell_type": "markdown",
   "id": "binary-florida",
   "metadata": {},
   "source": [
    "### Training"
   ]
  },
  {
   "cell_type": "code",
   "execution_count": 55,
   "id": "structured-hands",
   "metadata": {},
   "outputs": [
    {
     "name": "stdout",
     "output_type": "stream",
     "text": [
      "Epoch 1/25\n",
      "95/95 - 73s - loss: 2.4737 - accuracy: 0.1741 - val_loss: 2.0040 - val_accuracy: 0.2857\n",
      "Epoch 2/25\n",
      "95/95 - 76s - loss: 1.8242 - accuracy: 0.3694 - val_loss: 1.9421 - val_accuracy: 0.3492\n",
      "Epoch 3/25\n",
      "95/95 - 76s - loss: 1.5324 - accuracy: 0.4657 - val_loss: 2.0478 - val_accuracy: 0.4233\n",
      "Epoch 4/25\n",
      "95/95 - 74s - loss: 1.3429 - accuracy: 0.5277 - val_loss: 1.5210 - val_accuracy: 0.4921\n",
      "Epoch 5/25\n",
      "95/95 - 75s - loss: 1.0732 - accuracy: 0.6306 - val_loss: 1.9009 - val_accuracy: 0.4762\n",
      "Epoch 6/25\n",
      "95/95 - 75s - loss: 0.7966 - accuracy: 0.7124 - val_loss: 1.7199 - val_accuracy: 0.5397\n",
      "Epoch 7/25\n",
      "95/95 - 75s - loss: 0.4902 - accuracy: 0.8522 - val_loss: 1.7797 - val_accuracy: 0.5556\n",
      "Epoch 8/25\n",
      "95/95 - 75s - loss: 0.3065 - accuracy: 0.8984 - val_loss: 1.8916 - val_accuracy: 0.5556\n",
      "Epoch 9/25\n",
      "95/95 - 75s - loss: 0.1617 - accuracy: 0.9525 - val_loss: 1.6453 - val_accuracy: 0.6085\n",
      "Epoch 10/25\n",
      "95/95 - 75s - loss: 0.0743 - accuracy: 0.9776 - val_loss: 1.7210 - val_accuracy: 0.5873\n",
      "Epoch 11/25\n",
      "95/95 - 74s - loss: 0.0386 - accuracy: 0.9921 - val_loss: 2.2718 - val_accuracy: 0.6138\n",
      "Epoch 12/25\n",
      "95/95 - 74s - loss: 0.0684 - accuracy: 0.9894 - val_loss: 2.0583 - val_accuracy: 0.6296\n",
      "Epoch 13/25\n",
      "95/95 - 74s - loss: 0.0267 - accuracy: 0.9894 - val_loss: 2.3256 - val_accuracy: 0.5503\n",
      "Epoch 14/25\n",
      "95/95 - 74s - loss: 0.0558 - accuracy: 0.9881 - val_loss: 1.9664 - val_accuracy: 0.6138\n",
      "Epoch 15/25\n",
      "95/95 - 74s - loss: 0.0567 - accuracy: 0.9894 - val_loss: 3.4255 - val_accuracy: 0.5556\n",
      "Epoch 16/25\n",
      "95/95 - 74s - loss: 0.0535 - accuracy: 0.9881 - val_loss: 2.0143 - val_accuracy: 0.5873\n",
      "Epoch 17/25\n",
      "95/95 - 74s - loss: 0.0207 - accuracy: 0.9974 - val_loss: 1.9364 - val_accuracy: 0.6296\n",
      "Epoch 18/25\n",
      "95/95 - 74s - loss: 0.0383 - accuracy: 0.9921 - val_loss: 1.7862 - val_accuracy: 0.6138\n",
      "Epoch 19/25\n",
      "95/95 - 74s - loss: 0.0177 - accuracy: 0.9960 - val_loss: 2.2837 - val_accuracy: 0.6561\n",
      "Epoch 20/25\n",
      "95/95 - 74s - loss: 0.0130 - accuracy: 0.9974 - val_loss: 3.8948 - val_accuracy: 0.5450\n",
      "Epoch 21/25\n",
      "95/95 - 74s - loss: 0.0377 - accuracy: 0.9894 - val_loss: 2.1593 - val_accuracy: 0.6190\n",
      "Epoch 22/25\n",
      "95/95 - 74s - loss: 0.0211 - accuracy: 0.9974 - val_loss: 2.2709 - val_accuracy: 0.5979\n",
      "Epoch 23/25\n",
      "95/95 - 74s - loss: 0.0078 - accuracy: 0.9974 - val_loss: 2.2689 - val_accuracy: 0.6085\n",
      "Epoch 24/25\n",
      "95/95 - 74s - loss: 0.0130 - accuracy: 0.9974 - val_loss: 2.1280 - val_accuracy: 0.6085\n",
      "Epoch 25/25\n",
      "95/95 - 74s - loss: 0.0060 - accuracy: 0.9974 - val_loss: 2.0841 - val_accuracy: 0.6243\n"
     ]
    }
   ],
   "source": [
    "x=model.fit(\n",
    "  image_dataset,\n",
    "  validation_data=val_ds,\n",
    "  epochs=25,\n",
    "  verbose=2\n",
    ")"
   ]
  },
  {
   "cell_type": "code",
   "execution_count": 63,
   "id": "cooperative-uncertainty",
   "metadata": {},
   "outputs": [
    {
     "data": {
      "image/png": "[encoded data removed]",
      "text/plain": [
       "<Figure size 720x360 with 2 Axes>"
      ]
     },
     "metadata": {
      "needs_background": "light"
     },
     "output_type": "display_data"
    }
   ],
   "source": [
    "def plot_hist(history):\n",
    "    acc = history.history['accuracy']\n",
    "    val_acc = history.history['val_accuracy']\n",
    "\n",
    "    loss = history.history['loss']\n",
    "    val_loss = history.history['val_loss']\n",
    "\n",
    "    plt.figure(figsize=(10, 5))\n",
    "    \n",
    "    plt.subplot(1, 2, 1)\n",
    "    plt.plot(acc, label='Training Accuracy')\n",
    "    plt.plot(val_acc, label='Validation Accuracy')\n",
    "    plt.legend(loc='lower right')\n",
    "    plt.title('Training and Validation Accuracy')\n",
    "    plt.grid()\n",
    "\n",
    "    plt.subplot(1, 2, 2)\n",
    "    plt.plot(loss, label='Training Loss')\n",
    "    plt.plot(val_loss, label='Validation Loss')\n",
    "    plt.legend(loc='upper right')\n",
    "    plt.title('Training and Validation Loss')\n",
    "    plt.grid()\n",
    "    plt.show()\n",
    "plot_hist(x)"
   ]
  },
  {
   "cell_type": "code",
   "execution_count": 60,
   "id": "latter-stuff",
   "metadata": {},
   "outputs": [
    {
     "data": {
      "text/plain": [
       "array([1, 3, 1, 2, 6, 7, 7, 0, 6, 2, 9, 4, 6, 6, 4, 9, 7, 4, 8, 8, 1, 0,\n",
       "       3, 9, 6, 7, 6, 8, 8, 4, 7, 5, 6, 8, 0, 1, 2, 1, 8, 9, 0, 3, 2, 2,\n",
       "       0, 7, 8, 7, 2, 4, 4, 1, 4, 1, 2, 1, 7, 9, 9, 5, 7, 1, 1, 7, 4, 2,\n",
       "       0, 4, 8, 7, 9, 1, 1, 9, 9, 8, 3, 9, 8, 0, 0, 7, 3, 1, 1, 6, 1, 6,\n",
       "       9, 9, 7, 9, 4, 0, 4, 8, 8, 6, 6, 1, 0, 8, 1, 8, 6, 9, 5, 7, 9, 9,\n",
       "       3, 7, 6, 0, 4, 7, 7, 4, 9, 0, 3, 4, 6, 4, 4, 1, 2, 9, 0, 9, 4, 7,\n",
       "       8, 9, 8, 8, 6, 4, 8, 9, 9, 3, 5, 6, 9, 4, 0, 4, 1, 1, 1, 4, 4, 6,\n",
       "       7, 3, 7, 5, 8, 9, 4, 7, 3, 4, 1, 3, 0, 2, 8, 2, 9, 2, 6, 9, 2, 2,\n",
       "       3, 3, 1, 9, 1, 0, 6, 2, 4, 7, 7, 1, 8])"
      ]
     },
     "execution_count": 60,
     "metadata": {},
     "output_type": "execute_result"
    }
   ],
   "source": [
    "np.argmax(model.predict(val_ds), axis=-1)"
   ]
  },
  {
   "cell_type": "code",
   "execution_count": 62,
   "id": "thousand-owner",
   "metadata": {},
   "outputs": [
    {
     "data": {
      "text/plain": [
       "['blues',\n",
       " 'classical',\n",
       " 'country',\n",
       " 'disco',\n",
       " 'hiphop',\n",
       " 'jazz',\n",
       " 'metal',\n",
       " 'pop',\n",
       " 'reggae',\n",
       " 'rock']"
      ]
     },
     "execution_count": 62,
     "metadata": {},
     "output_type": "execute_result"
    }
   ],
   "source": [
    "val_ds.class_names"
   ]
  }
 ],
 "metadata": {
  "kernelspec": {
   "display_name": "Python 3",
   "language": "python",
   "name": "python3"
  },
  "language_info": {
   "codemirror_mode": {
    "name": "ipython",
    "version": 3
   },
   "file_extension": ".py",
   "mimetype": "text/x-python",
   "name": "python",
   "nbconvert_exporter": "python",
   "pygments_lexer": "ipython3",
   "version": "3.6.9"
  }
 },
 "nbformat": 4,
 "nbformat_minor": 5
}
