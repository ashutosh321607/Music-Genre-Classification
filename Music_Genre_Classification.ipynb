{
  "nbformat": 4,
  "nbformat_minor": 0,
  "metadata": {
    "colab": {
      "name": "Music-Genre-Classification.ipynb",
      "provenance": [],
      "authorship_tag": "ABX9TyP2DxvypbZ/lJZIf4buX3+M",
      "include_colab_link": true
    },
    "kernelspec": {
      "name": "python3",
      "display_name": "Python 3"
    }
  },
  "cells": [
    {
      "cell_type": "markdown",
      "metadata": {
        "id": "view-in-github",
        "colab_type": "text"
      },
      "source": [
        "<a href=\"https://colab.research.google.com/github/ashutosh321607/Music-Genre-Classification/blob/main/Music_Genre_Classification.ipynb\" target=\"_parent\"><img src=\"https://colab.research.google.com/assets/colab-badge.svg\" alt=\"Open In Colab\"/></a>"
      ]
    },
    {
      "cell_type": "markdown",
      "metadata": {
        "id": "IvpkMvZ7Ll0T"
      },
      "source": [
        "# Music Genre Classification"
      ]
    },
    {
      "cell_type": "code",
      "metadata": {
        "colab": {
          "base_uri": "https://localhost:8080/",
          "height": 129
        },
        "id": "w75KASilP1Ap",
        "outputId": "2d3c4335-31ee-45e7-e279-490b9675b9a4"
      },
      "source": [
        "import librosa\n",
        "audio_path = '../T08-violin.wav'\n",
        "x , sr = librosa.load(audio_path)\n",
        "print(type(x), type(sr))\n",
        "<class 'numpy.ndarray'> <class 'int'>\n",
        "print(x.shape, sr)\n",
        "(396688,) 22050"
      ],
      "execution_count": 1,
      "outputs": [
        {
          "output_type": "error",
          "ename": "SyntaxError",
          "evalue": "ignored",
          "traceback": [
            "\u001b[0;36m  File \u001b[0;32m\"<ipython-input-1-4e9c16bfc53a>\"\u001b[0;36m, line \u001b[0;32m5\u001b[0m\n\u001b[0;31m    <class 'numpy.ndarray'> <class 'int'>\u001b[0m\n\u001b[0m    ^\u001b[0m\n\u001b[0;31mSyntaxError\u001b[0m\u001b[0;31m:\u001b[0m invalid syntax\n"
          ]
        }
      ]
    }
  ]
}